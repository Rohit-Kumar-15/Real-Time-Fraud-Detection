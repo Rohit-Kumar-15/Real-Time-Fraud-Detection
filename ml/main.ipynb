{
 "cells": [
  {
   "cell_type": "code",
   "execution_count": 32,
   "id": "dc7d7c5d",
   "metadata": {},
   "outputs": [],
   "source": [
    "import pandas as pd\n",
    "import numpy as np\n",
    "from sklearn.model_selection import train_test_split\n",
    "from sklearn.preprocessing import LabelEncoder, StandardScaler\n",
    "from sklearn import metrics, tree, ensemble\n",
    "from xgboost import XGBClassifier\n",
    "from imblearn.over_sampling import SMOTE\n",
    "import joblib, warnings, onnxmltools\n",
    "from onnxmltools.convert.common.data_types import FloatTensorType\n",
    "warnings.filterwarnings(\"ignore\")"
   ]
  },
  {
   "cell_type": "code",
   "execution_count": 33,
   "id": "b2832519",
   "metadata": {},
   "outputs": [
    {
     "name": "stdout",
     "output_type": "stream",
     "text": [
      "✅ Saved fraud_model.onnx successfully.\n"
     ]
    }
   ],
   "source": [
    "import joblib\n",
    "import onnxmltools\n",
    "from xgboost import XGBClassifier\n",
    "from onnxmltools.convert.common.data_types import FloatTensorType\n",
    "\n",
    "# Load model\n",
    "model = joblib.load(\"fraud_model.pkl\")\n",
    "\n",
    "# Define input shape\n",
    "initial_type = [(\"input\", FloatTensorType([None, 7]))]\n",
    "\n",
    "# Convert to ONNX\n",
    "onnx_model = onnxmltools.convert_xgboost(model, initial_types=initial_type)\n",
    "\n",
    "# Save file\n",
    "onnxmltools.utils.save_model(onnx_model, \"fraud_model.onnx\")\n",
    "\n",
    "print(\"✅ Saved fraud_model.onnx successfully.\")\n"
   ]
  },
  {
   "cell_type": "code",
   "execution_count": 34,
   "id": "3bcd65e6",
   "metadata": {},
   "outputs": [
    {
     "name": "stdout",
     "output_type": "stream",
     "text": [
      "Initial shape: (6362620, 11)\n",
      "   step      type    amount     nameOrig  oldbalanceOrg  newbalanceOrig  \\\n",
      "0     1   PAYMENT   9839.64  C1231006815       170136.0       160296.36   \n",
      "1     1   PAYMENT   1864.28  C1666544295        21249.0        19384.72   \n",
      "2     1  TRANSFER    181.00  C1305486145          181.0            0.00   \n",
      "3     1  CASH_OUT    181.00   C840083671          181.0            0.00   \n",
      "4     1   PAYMENT  11668.14  C2048537720        41554.0        29885.86   \n",
      "\n",
      "      nameDest  oldbalanceDest  newbalanceDest  isFraud  isFlaggedFraud  \n",
      "0  M1979787155             0.0             0.0        0               0  \n",
      "1  M2044282225             0.0             0.0        0               0  \n",
      "2   C553264065             0.0             0.0        1               0  \n",
      "3    C38997010         21182.0             0.0        1               0  \n",
      "4  M1230701703             0.0             0.0        0               0  \n"
     ]
    }
   ],
   "source": [
    "df = pd.read_csv(\"dataset/dataset.csv\")\n",
    "print(\"Initial shape:\", df.shape)\n",
    "print(df.head())\n",
    "\n",
    "# Drop unused identifiers\n",
    "df = df.drop(['nameOrig', 'nameDest'], axis=1)"
   ]
  },
  {
   "cell_type": "code",
   "execution_count": 35,
   "id": "e4049ddb",
   "metadata": {},
   "outputs": [],
   "source": [
    "le = LabelEncoder()\n",
    "df['type'] = le.fit_transform(df['type'])\n",
    "\n",
    "# Engineered features from the base paper\n",
    "df['Eorig'] = df['newbalanceOrig'] + df['amount'] - df['oldbalanceOrg']\n",
    "df['Edest'] = df['oldbalanceDest'] + df['amount'] - df['newbalanceDest']"
   ]
  },
  {
   "cell_type": "code",
   "execution_count": 36,
   "id": "82af397e",
   "metadata": {},
   "outputs": [],
   "source": [
    "X = df.drop(['isFraud', 'isFlaggedFraud'], axis=1)\n",
    "y = df['isFraud']"
   ]
  },
  {
   "cell_type": "code",
   "execution_count": 37,
   "id": "937e9e4a",
   "metadata": {},
   "outputs": [],
   "source": [
    "scaler = StandardScaler()\n",
    "X_scaled = scaler.fit_transform(X)"
   ]
  },
  {
   "cell_type": "code",
   "execution_count": 38,
   "id": "df74cb85",
   "metadata": {},
   "outputs": [
    {
     "name": "stdout",
     "output_type": "stream",
     "text": [
      "Balanced dataset shape: (12708814, 9) (12708814,)\n"
     ]
    }
   ],
   "source": [
    "smote = SMOTE(random_state=42)\n",
    "X_resampled, y_resampled = smote.fit_resample(X_scaled, y)\n",
    "print(\"Balanced dataset shape:\", X_resampled.shape, y_resampled.shape)\n"
   ]
  },
  {
   "cell_type": "code",
   "execution_count": 39,
   "id": "f996b0a8",
   "metadata": {},
   "outputs": [],
   "source": [
    "X_train, X_val, y_train, y_val = train_test_split(\n",
    "    X_resampled, y_resampled, test_size=0.2, stratify=y_resampled, random_state=42\n",
    ")"
   ]
  },
  {
   "cell_type": "code",
   "execution_count": 40,
   "id": "319def81",
   "metadata": {},
   "outputs": [
    {
     "data": {
      "text/html": [
       "<div>\n",
       "<style scoped>\n",
       "    .dataframe tbody tr th:only-of-type {\n",
       "        vertical-align: middle;\n",
       "    }\n",
       "\n",
       "    .dataframe tbody tr th {\n",
       "        vertical-align: top;\n",
       "    }\n",
       "\n",
       "    .dataframe thead th {\n",
       "        text-align: right;\n",
       "    }\n",
       "</style>\n",
       "<table border=\"1\" class=\"dataframe\">\n",
       "  <thead>\n",
       "    <tr style=\"text-align: right;\">\n",
       "      <th></th>\n",
       "      <th>Accuracy</th>\n",
       "      <th>Precision</th>\n",
       "      <th>Recall</th>\n",
       "      <th>F1</th>\n",
       "      <th>MCC</th>\n",
       "      <th>BCR</th>\n",
       "    </tr>\n",
       "  </thead>\n",
       "  <tbody>\n",
       "    <tr>\n",
       "      <th>XGBoost</th>\n",
       "      <td>0.998713</td>\n",
       "      <td>0.999566</td>\n",
       "      <td>0.997858</td>\n",
       "      <td>0.998712</td>\n",
       "      <td>0.997427</td>\n",
       "      <td>0.998713</td>\n",
       "    </tr>\n",
       "    <tr>\n",
       "      <th>Random Forest</th>\n",
       "      <td>0.997933</td>\n",
       "      <td>0.999999</td>\n",
       "      <td>0.995867</td>\n",
       "      <td>0.997929</td>\n",
       "      <td>0.995874</td>\n",
       "      <td>0.997933</td>\n",
       "    </tr>\n",
       "    <tr>\n",
       "      <th>Decision Tree</th>\n",
       "      <td>0.997732</td>\n",
       "      <td>1.000000</td>\n",
       "      <td>0.995464</td>\n",
       "      <td>0.997727</td>\n",
       "      <td>0.995474</td>\n",
       "      <td>0.997732</td>\n",
       "    </tr>\n",
       "  </tbody>\n",
       "</table>\n",
       "</div>"
      ],
      "text/plain": [
       "               Accuracy  Precision    Recall        F1       MCC       BCR\n",
       "XGBoost        0.998713   0.999566  0.997858  0.998712  0.997427  0.998713\n",
       "Random Forest  0.997933   0.999999  0.995867  0.997929  0.995874  0.997933\n",
       "Decision Tree  0.997732   1.000000  0.995464  0.997727  0.995474  0.997732"
      ]
     },
     "metadata": {},
     "output_type": "display_data"
    }
   ],
   "source": [
    "models = {\n",
    "    \"Decision Tree\": tree.DecisionTreeClassifier(max_depth=5, random_state=42),\n",
    "    \"Random Forest\": ensemble.RandomForestClassifier(n_estimators=100, max_depth=6, random_state=42),\n",
    "    \"XGBoost\": XGBClassifier(\n",
    "        n_estimators=100, max_depth=5, learning_rate=0.1,\n",
    "        eval_metric=\"logloss\", use_label_encoder=False, random_state=42, objective='binary:logistic'\n",
    "    )\n",
    "}\n",
    "\n",
    "results = {}\n",
    "\n",
    "for name, model in models.items():\n",
    "    model.fit(X_train, y_train)\n",
    "    preds = model.predict(X_val)\n",
    "    proba = model.predict_proba(X_val)[:, 1]\n",
    "\n",
    "    # Custom metrics (from base paper)\n",
    "    acc = metrics.accuracy_score(y_val, preds)\n",
    "    prec = metrics.precision_score(y_val, preds)\n",
    "    rec = metrics.recall_score(y_val, preds)\n",
    "    f1 = metrics.f1_score(y_val, preds)\n",
    "    mcc = metrics.matthews_corrcoef(y_val, preds)\n",
    "    tn, fp, fn, tp = metrics.confusion_matrix(y_val, preds).ravel()\n",
    "    spec = tn / (tn + fp)\n",
    "    bcr = (rec + spec) / 2\n",
    "\n",
    "    results[name] = {\n",
    "        \"Accuracy\": acc,\n",
    "        \"Precision\": prec,\n",
    "        \"Recall\": rec,\n",
    "        \"F1\": f1,\n",
    "        \"MCC\": mcc,\n",
    "        \"BCR\": bcr\n",
    "    }\n",
    "\n",
    "results_df = pd.DataFrame(results).T.sort_values(\"F1\", ascending=False)\n",
    "display(results_df)"
   ]
  },
  {
   "cell_type": "code",
   "execution_count": 41,
   "id": "7577d02c",
   "metadata": {},
   "outputs": [
    {
     "name": "stdout",
     "output_type": "stream",
     "text": [
      "✅ Best Model: XGBoost\n"
     ]
    }
   ],
   "source": [
    "best_model_name = results_df.index[0]\n",
    "best_model = models[best_model_name]\n",
    "print(f\"✅ Best Model: {best_model_name}\")"
   ]
  },
  {
   "cell_type": "code",
   "execution_count": 42,
   "id": "9c485a75",
   "metadata": {},
   "outputs": [
    {
     "data": {
      "text/plain": [
       "['label_encoder.pkl']"
      ]
     },
     "execution_count": 42,
     "metadata": {},
     "output_type": "execute_result"
    }
   ],
   "source": [
    "joblib.dump(best_model, \"fraud_model.pkl\")\n",
    "joblib.dump(scaler, \"scaler.pkl\")\n",
    "joblib.dump(le, \"label_encoder.pkl\")"
   ]
  },
  {
   "cell_type": "code",
   "execution_count": 46,
   "id": "339b3051",
   "metadata": {},
   "outputs": [
    {
     "name": "stdout",
     "output_type": "stream",
     "text": [
      "✅ XGB model converted to ONNX successfully!\n"
     ]
    }
   ],
   "source": [
    "from sklearn.preprocessing import StandardScaler\n",
    "from xgboost import XGBClassifier\n",
    "import joblib\n",
    "import onnxmltools\n",
    "from onnxmltools.convert.common.data_types import FloatTensorType\n",
    "\n",
    "# Train scaler + model\n",
    "scaler = StandardScaler()\n",
    "X_scaled = scaler.fit_transform(X_train)\n",
    "\n",
    "\n",
    "# Save scaler and model\n",
    "joblib.dump(scaler, \"scaler.pkl\")\n",
    "joblib.dump(best_model, \"xgb_model.pkl\")\n",
    "\n",
    "# Convert XGB to ONNX\n",
    "initial_type = [(\"input\", FloatTensorType([None, X_scaled.shape[1]]))]\n",
    "onnx_model = onnxmltools.convert_xgboost(best_model, initial_types=initial_type)\n",
    "onnxmltools.utils.save_model(onnx_model, \"fraud_model.onnx\")\n",
    "\n",
    "print(\"✅ XGB model converted to ONNX successfully!\")\n"
   ]
  },
  {
   "cell_type": "code",
   "execution_count": null,
   "id": "9ac5e155",
   "metadata": {},
   "outputs": [],
   "source": []
  }
 ],
 "metadata": {
  "kernelspec": {
   "display_name": "Python 3",
   "language": "python",
   "name": "python3"
  },
  "language_info": {
   "codemirror_mode": {
    "name": "ipython",
    "version": 3
   },
   "file_extension": ".py",
   "mimetype": "text/x-python",
   "name": "python",
   "nbconvert_exporter": "python",
   "pygments_lexer": "ipython3",
   "version": "3.13.7"
  }
 },
 "nbformat": 4,
 "nbformat_minor": 5
}
